{
 "cells": [
  {
   "cell_type": "markdown",
   "id": "dbf4d54e",
   "metadata": {},
   "source": [
    "# Question 1"
   ]
  },
  {
   "cell_type": "code",
   "execution_count": 51,
   "id": "230895b7",
   "metadata": {},
   "outputs": [
    {
     "data": {
      "text/plain": [
       "False"
      ]
     },
     "execution_count": 51,
     "metadata": {},
     "output_type": "execute_result"
    }
   ],
   "source": [
    "def binary_search(A,k):\n",
    "    first = 0\n",
    "    last = len(A)-1\n",
    "    found = False\n",
    "    while( first<=last and not found):\n",
    "        mid = int((first + last)/2)\n",
    "        if A[mid] == k :\n",
    "            found = True\n",
    "        else:\n",
    "            if k < A[mid]:\n",
    "                last = mid - 1\n",
    "            else:\n",
    "                first = mid + 1\n",
    "    return found\n",
    "\n",
    "binary_search([1,2,3,5,8], 6)"
   ]
  },
  {
   "cell_type": "code",
   "execution_count": 50,
   "id": "b0ad6657",
   "metadata": {},
   "outputs": [
    {
     "data": {
      "text/plain": [
       "True"
      ]
     },
     "execution_count": 50,
     "metadata": {},
     "output_type": "execute_result"
    }
   ],
   "source": [
    "def binary_search(A,k):\n",
    "    first = 0\n",
    "    last = len(A)-1\n",
    "    found = False\n",
    "    while( first<=last and not found):\n",
    "        mid = int((first + last)/2)\n",
    "        if A[mid] == k :\n",
    "            found = True\n",
    "        else:\n",
    "            if k < A[mid]:\n",
    "                last = mid - 1\n",
    "            else:\n",
    "                first = mid + 1\n",
    "    return found\n",
    "binary_search([1,2,3,5,8], 5)"
   ]
  },
  {
   "cell_type": "markdown",
   "id": "05a1ca24",
   "metadata": {},
   "source": [
    "# Question 2"
   ]
  },
  {
   "cell_type": "code",
   "execution_count": 47,
   "id": "b3c2eee6",
   "metadata": {},
   "outputs": [
    {
     "data": {
      "text/plain": [
       "81"
      ]
     },
     "execution_count": 47,
     "metadata": {},
     "output_type": "execute_result"
    }
   ],
   "source": [
    "def power(a,b):\n",
    "    if b == 0:\n",
    "        return 1\n",
    "    else:\n",
    "        return a * power(a,b-1)\n",
    "power(3,4)"
   ]
  },
  {
   "cell_type": "markdown",
   "id": "c297860c",
   "metadata": {},
   "source": [
    "# Question 3"
   ]
  },
  {
   "cell_type": "code",
   "execution_count": 48,
   "id": "9c5f7cc1",
   "metadata": {},
   "outputs": [
    {
     "data": {
      "text/plain": [
       "[13, 22, 29, 37, 46, 49, 52, 56, 71]"
      ]
     },
     "execution_count": 48,
     "metadata": {},
     "output_type": "execute_result"
    }
   ],
   "source": [
    "def Bubble_Sort(Liste):\n",
    "    for passnum in range(len(Liste)-1,0,-1):\n",
    "        for i in range(passnum):\n",
    "            if Liste[i]>Liste[i+1]:\n",
    "                temp = Liste[i]\n",
    "                Liste[i] = Liste[i+1]\n",
    "                Liste[i+1] = temp\n",
    "    return Liste\n",
    "\n",
    "Liste = [29,13,22,37,52,49,46,71,56]\n",
    "Bubble_Sort(Liste)"
   ]
  },
  {
   "cell_type": "markdown",
   "id": "babffafa",
   "metadata": {},
   "source": [
    "# Question 4"
   ]
  },
  {
   "cell_type": "code",
   "execution_count": 53,
   "id": "e37d1bd9",
   "metadata": {},
   "outputs": [
    {
     "data": {
      "text/plain": [
       "[13, 22, 29, 37, 46, 49, 52, 56, 71]"
      ]
     },
     "execution_count": 53,
     "metadata": {},
     "output_type": "execute_result"
    }
   ],
   "source": [
    "def Merge_Sort(Liste):\n",
    "    if len(Liste) > 1:\n",
    "        mid = len(Liste) // 2\n",
    "        left = Liste[:mid]\n",
    "        right = Liste[mid:]\n",
    "\n",
    "\n",
    "        Merge_Sort(left)\n",
    "        Merge_Sort(right)\n",
    "        i = 0\n",
    "        j = 0\n",
    "        k = 0\n",
    "        \n",
    "        while i < len(left) and j < len(right):\n",
    "            if left[i] < right[j]:\n",
    "                Liste[k] = left[i]\n",
    "                i += 1\n",
    "            else:\n",
    "                Liste[k] = right[j]\n",
    "                j += 1\n",
    "            k += 1\n",
    "        while i < len(left):\n",
    "            Liste[k] = left[i]\n",
    "            i += 1\n",
    "            k += 1\n",
    "\n",
    "        while j < len(right):\n",
    "            Liste[k]= right[j]\n",
    "            j += 1\n",
    "            k += 1\n",
    "    return Liste\n",
    "Liste = [29,13,22,37,52,49,46,71,56]\n",
    "Merge_Sort(Liste)"
   ]
  },
  {
   "cell_type": "markdown",
   "id": "dcb0d8ea",
   "metadata": {},
   "source": [
    "# Question 5"
   ]
  },
  {
   "cell_type": "code",
   "execution_count": 16,
   "id": "a3207403",
   "metadata": {},
   "outputs": [
    {
     "name": "stdout",
     "output_type": "stream",
     "text": [
      "[29, 13, 22, 37, 52, 49, 46, 71, 56]\n"
     ]
    }
   ],
   "source": [
    "def partition(array, start, end):\n",
    "    pivot = array[start]\n",
    "    low = start + 1\n",
    "    high = end\n",
    "    while True:\n",
    "        while low <= high and array[high] >= pivot:\n",
    "            high = high - 1\n",
    "        while low <= high and array[low] <= pivot:\n",
    "            low = low + 1\n",
    "        if low <= high:\n",
    "            array[low], array[high] = array[high], array[low]\n",
    "        else:\n",
    "            break\n",
    "\n",
    "    array[start], array[high] = array[high], array[start]\n",
    "    return high\n",
    "def quick_sort(array, start, end):\n",
    "    if start >= end:\n",
    "        return \n",
    "        p = partition(array, start, end)\n",
    "        quick_sort(array, start, p-1)\n",
    "        quick_sort(array, p+1, end)\n",
    "array = [29,13,22,37,52,49,46,71,56]\n",
    "quick_sort(array, 0, len(array) - 1)\n",
    "print(array)"
   ]
  },
  {
   "cell_type": "code",
   "execution_count": null,
   "id": "46189c18",
   "metadata": {},
   "outputs": [],
   "source": []
  }
 ],
 "metadata": {
  "kernelspec": {
   "display_name": "Python 3",
   "language": "python",
   "name": "python3"
  },
  "language_info": {
   "codemirror_mode": {
    "name": "ipython",
    "version": 3
   },
   "file_extension": ".py",
   "mimetype": "text/x-python",
   "name": "python",
   "nbconvert_exporter": "python",
   "pygments_lexer": "ipython3",
   "version": "3.8.8"
  }
 },
 "nbformat": 4,
 "nbformat_minor": 5
}
